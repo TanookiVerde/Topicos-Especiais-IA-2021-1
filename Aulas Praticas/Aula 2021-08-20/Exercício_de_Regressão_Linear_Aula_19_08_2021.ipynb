{
  "nbformat": 4,
  "nbformat_minor": 0,
  "metadata": {
    "colab": {
      "name": "Exercício de Regressão Linear - Aula 19/08/2021",
      "provenance": [],
      "collapsed_sections": []
    },
    "kernelspec": {
      "name": "python3",
      "display_name": "Python 3"
    },
    "language_info": {
      "name": "python"
    }
  },
  "cells": [
    {
      "cell_type": "markdown",
      "metadata": {
        "id": "QbdB8gTH4UJM"
      },
      "source": [
        "# Exercício de Regressão Linear\n",
        "- Aluno: Pedro Nascimento\n",
        "- Professor: Cláudio Miceli"
      ]
    },
    {
      "cell_type": "markdown",
      "metadata": {
        "id": "-t6fvepDDeuW"
      },
      "source": [
        "## Importando módulos"
      ]
    },
    {
      "cell_type": "code",
      "metadata": {
        "id": "JsEoyCGS2QOr"
      },
      "source": [
        "import numpy as np\n",
        "import pandas as pd\n",
        "import matplotlib.pyplot as plt\n",
        "from sklearn.datasets import load_iris\n",
        "from sklearn.model_selection import train_test_split\n",
        "from sklearn.linear_model import LinearRegression\n",
        "from sklearn.metrics import r2_score"
      ],
      "execution_count": null,
      "outputs": []
    },
    {
      "cell_type": "markdown",
      "metadata": {
        "id": "V3XYxZNeDm3k"
      },
      "source": [
        "## Carregando Dados"
      ]
    },
    {
      "cell_type": "code",
      "metadata": {
        "id": "e4lULg7H2Y2Y"
      },
      "source": [
        "dataset = load_iris()\n",
        "df = pd.DataFrame(dataset.data, columns=dataset.feature_names)"
      ],
      "execution_count": null,
      "outputs": []
    },
    {
      "cell_type": "code",
      "metadata": {
        "colab": {
          "base_uri": "https://localhost:8080/",
          "height": 204
        },
        "id": "VquxzDUl2jRv",
        "outputId": "53af6224-07b2-4726-e66d-621108497366"
      },
      "source": [
        "df.head()"
      ],
      "execution_count": null,
      "outputs": [
        {
          "output_type": "execute_result",
          "data": {
            "text/html": [
              "<div>\n",
              "<style scoped>\n",
              "    .dataframe tbody tr th:only-of-type {\n",
              "        vertical-align: middle;\n",
              "    }\n",
              "\n",
              "    .dataframe tbody tr th {\n",
              "        vertical-align: top;\n",
              "    }\n",
              "\n",
              "    .dataframe thead th {\n",
              "        text-align: right;\n",
              "    }\n",
              "</style>\n",
              "<table border=\"1\" class=\"dataframe\">\n",
              "  <thead>\n",
              "    <tr style=\"text-align: right;\">\n",
              "      <th></th>\n",
              "      <th>sepal length (cm)</th>\n",
              "      <th>sepal width (cm)</th>\n",
              "      <th>petal length (cm)</th>\n",
              "      <th>petal width (cm)</th>\n",
              "    </tr>\n",
              "  </thead>\n",
              "  <tbody>\n",
              "    <tr>\n",
              "      <th>0</th>\n",
              "      <td>5.1</td>\n",
              "      <td>3.5</td>\n",
              "      <td>1.4</td>\n",
              "      <td>0.2</td>\n",
              "    </tr>\n",
              "    <tr>\n",
              "      <th>1</th>\n",
              "      <td>4.9</td>\n",
              "      <td>3.0</td>\n",
              "      <td>1.4</td>\n",
              "      <td>0.2</td>\n",
              "    </tr>\n",
              "    <tr>\n",
              "      <th>2</th>\n",
              "      <td>4.7</td>\n",
              "      <td>3.2</td>\n",
              "      <td>1.3</td>\n",
              "      <td>0.2</td>\n",
              "    </tr>\n",
              "    <tr>\n",
              "      <th>3</th>\n",
              "      <td>4.6</td>\n",
              "      <td>3.1</td>\n",
              "      <td>1.5</td>\n",
              "      <td>0.2</td>\n",
              "    </tr>\n",
              "    <tr>\n",
              "      <th>4</th>\n",
              "      <td>5.0</td>\n",
              "      <td>3.6</td>\n",
              "      <td>1.4</td>\n",
              "      <td>0.2</td>\n",
              "    </tr>\n",
              "  </tbody>\n",
              "</table>\n",
              "</div>"
            ],
            "text/plain": [
              "   sepal length (cm)  sepal width (cm)  petal length (cm)  petal width (cm)\n",
              "0                5.1               3.5                1.4               0.2\n",
              "1                4.9               3.0                1.4               0.2\n",
              "2                4.7               3.2                1.3               0.2\n",
              "3                4.6               3.1                1.5               0.2\n",
              "4                5.0               3.6                1.4               0.2"
            ]
          },
          "metadata": {},
          "execution_count": 3
        }
      ]
    },
    {
      "cell_type": "markdown",
      "metadata": {
        "id": "BmQR4LtsBNG0"
      },
      "source": [
        "## Entendendo as variáveis"
      ]
    },
    {
      "cell_type": "markdown",
      "metadata": {
        "id": "bL9eIHriBrFo"
      },
      "source": [
        "Observando as correlações. Quanto maior o módulo da correlação, mais as variáveis são relacionáveis."
      ]
    },
    {
      "cell_type": "code",
      "metadata": {
        "colab": {
          "base_uri": "https://localhost:8080/",
          "height": 173
        },
        "id": "kPDpmJK33hby",
        "outputId": "698983ec-7d59-4b91-9026-8474589fd1ae"
      },
      "source": [
        "df.corr()"
      ],
      "execution_count": null,
      "outputs": [
        {
          "output_type": "execute_result",
          "data": {
            "text/html": [
              "<div>\n",
              "<style scoped>\n",
              "    .dataframe tbody tr th:only-of-type {\n",
              "        vertical-align: middle;\n",
              "    }\n",
              "\n",
              "    .dataframe tbody tr th {\n",
              "        vertical-align: top;\n",
              "    }\n",
              "\n",
              "    .dataframe thead th {\n",
              "        text-align: right;\n",
              "    }\n",
              "</style>\n",
              "<table border=\"1\" class=\"dataframe\">\n",
              "  <thead>\n",
              "    <tr style=\"text-align: right;\">\n",
              "      <th></th>\n",
              "      <th>sepal length (cm)</th>\n",
              "      <th>sepal width (cm)</th>\n",
              "      <th>petal length (cm)</th>\n",
              "      <th>petal width (cm)</th>\n",
              "    </tr>\n",
              "  </thead>\n",
              "  <tbody>\n",
              "    <tr>\n",
              "      <th>sepal length (cm)</th>\n",
              "      <td>1.000000</td>\n",
              "      <td>-0.117570</td>\n",
              "      <td>0.871754</td>\n",
              "      <td>0.817941</td>\n",
              "    </tr>\n",
              "    <tr>\n",
              "      <th>sepal width (cm)</th>\n",
              "      <td>-0.117570</td>\n",
              "      <td>1.000000</td>\n",
              "      <td>-0.428440</td>\n",
              "      <td>-0.366126</td>\n",
              "    </tr>\n",
              "    <tr>\n",
              "      <th>petal length (cm)</th>\n",
              "      <td>0.871754</td>\n",
              "      <td>-0.428440</td>\n",
              "      <td>1.000000</td>\n",
              "      <td>0.962865</td>\n",
              "    </tr>\n",
              "    <tr>\n",
              "      <th>petal width (cm)</th>\n",
              "      <td>0.817941</td>\n",
              "      <td>-0.366126</td>\n",
              "      <td>0.962865</td>\n",
              "      <td>1.000000</td>\n",
              "    </tr>\n",
              "  </tbody>\n",
              "</table>\n",
              "</div>"
            ],
            "text/plain": [
              "                   sepal length (cm)  ...  petal width (cm)\n",
              "sepal length (cm)           1.000000  ...          0.817941\n",
              "sepal width (cm)           -0.117570  ...         -0.366126\n",
              "petal length (cm)           0.871754  ...          0.962865\n",
              "petal width (cm)            0.817941  ...          1.000000\n",
              "\n",
              "[4 rows x 4 columns]"
            ]
          },
          "metadata": {},
          "execution_count": 4
        }
      ]
    },
    {
      "cell_type": "markdown",
      "metadata": {
        "id": "NhfmiDUP5CD8"
      },
      "source": [
        "Melhores correlações entre:\n",
        "- Sepal Length e Petal Length (0.87)"
      ]
    },
    {
      "cell_type": "code",
      "metadata": {
        "colab": {
          "base_uri": "https://localhost:8080/",
          "height": 295
        },
        "id": "lmfPXnRbANzB",
        "outputId": "3ca9505f-15e1-4c60-ed87-1dc3b290484e"
      },
      "source": [
        "%matplotlib inline\n",
        "\n",
        "petal_length = df[ [\"petal length (cm)\"] ].to_numpy()\n",
        "sepal_length = df[ [\"sepal length (cm)\"] ].to_numpy()\n",
        "\n",
        "plt.title('Petal Length X Sepal Length')  \n",
        "plt.xlabel('Petal Length')  \n",
        "plt.ylabel('Sepal Length') \n",
        "plt.scatter(petal_length, sepal_length, color=\"blue\")\n",
        "plt.show()"
      ],
      "execution_count": null,
      "outputs": [
        {
          "output_type": "display_data",
          "data": {
            "image/png": "[encoded data removed]",
            "text/plain": [
              "<Figure size 432x288 with 1 Axes>"
            ]
          },
          "metadata": {
            "needs_background": "light"
          }
        }
      ]
    },
    {
      "cell_type": "markdown",
      "metadata": {
        "id": "nUjGODZ2ArTx"
      },
      "source": [
        "- Sepal Length e Petal Width (0.81)"
      ]
    },
    {
      "cell_type": "code",
      "metadata": {
        "colab": {
          "base_uri": "https://localhost:8080/",
          "height": 295
        },
        "id": "A9GY7HqLAuZz",
        "outputId": "e6eef9df-f651-44e7-d4dd-e55528e7fc39"
      },
      "source": [
        "%matplotlib inline\n",
        "\n",
        "petal_width = df[ [\"petal width (cm)\"] ].to_numpy()\n",
        "sepal_length = df[ [\"sepal length (cm)\"] ].to_numpy()\n",
        "\n",
        "plt.title('Petal Length X Sepal Width')  \n",
        "plt.xlabel('Petal Width')  \n",
        "plt.ylabel('Sepal Length') \n",
        "plt.scatter(petal_width, sepal_length, color=\"blue\")\n",
        "plt.show()"
      ],
      "execution_count": null,
      "outputs": [
        {
          "output_type": "display_data",
          "data": {
            "image/png": "[encoded data removed]",
            "text/plain": [
              "<Figure size 432x288 with 1 Axes>"
            ]
          },
          "metadata": {
            "needs_background": "light"
          }
        }
      ]
    },
    {
      "cell_type": "markdown",
      "metadata": {
        "id": "NklgYNk6BWzH"
      },
      "source": [
        "Por ter maior correlação, decidi utilizar:\n",
        "- Features: Petal Length\n",
        "- Target: Sepal Length"
      ]
    },
    {
      "cell_type": "markdown",
      "metadata": {
        "id": "GdNfpjkgBnF_"
      },
      "source": [
        "## Treinamento"
      ]
    },
    {
      "cell_type": "markdown",
      "metadata": {
        "id": "FYjzvrQkD-Bt"
      },
      "source": [
        "Isolando Features (X) e Target (y)"
      ]
    },
    {
      "cell_type": "code",
      "metadata": {
        "id": "bppsz9OF5hDB"
      },
      "source": [
        "X = df[ [\"petal length (cm)\"] ]\n",
        "y = df[ [\"sepal length (cm)\"] ]"
      ],
      "execution_count": null,
      "outputs": []
    },
    {
      "cell_type": "markdown",
      "metadata": {
        "id": "EeAb__76EB2b"
      },
      "source": [
        "Dividindo entre Treinamento e Teste"
      ]
    },
    {
      "cell_type": "code",
      "metadata": {
        "colab": {
          "base_uri": "https://localhost:8080/"
        },
        "id": "reTDjIrEB-pC",
        "outputId": "2ac150eb-fd17-47c5-b9c3-d32e863f7e4b"
      },
      "source": [
        "from sklearn.model_selection import train_test_split\n",
        "\n",
        "X_train, X_test, y_train, y_test = train_test_split(X, y, test_size=0.2, random_state=42)\n",
        "\n",
        "print(\"{} para treino\\n{} para teste\".format(len(X_train), len(X_test)))"
      ],
      "execution_count": null,
      "outputs": [
        {
          "output_type": "stream",
          "text": [
            "120 para treino\n",
            "30 para teste\n"
          ],
          "name": "stdout"
        }
      ]
    },
    {
      "cell_type": "markdown",
      "metadata": {
        "id": "WER8UraPEFXU"
      },
      "source": [
        "Criando modelo e dando fit nos dados de treinamento"
      ]
    },
    {
      "cell_type": "code",
      "metadata": {
        "colab": {
          "base_uri": "https://localhost:8080/"
        },
        "id": "Gqe1LM_25D7v",
        "outputId": "160c19b1-fd6d-4aa4-d974-639132812bb3"
      },
      "source": [
        "model = LinearRegression()\n",
        "model.fit(X_train.to_numpy(), y_train.to_numpy())"
      ],
      "execution_count": null,
      "outputs": [
        {
          "output_type": "execute_result",
          "data": {
            "text/plain": [
              "LinearRegression(copy_X=True, fit_intercept=True, n_jobs=None, normalize=False)"
            ]
          },
          "metadata": {},
          "execution_count": 9
        }
      ]
    },
    {
      "cell_type": "markdown",
      "metadata": {
        "id": "OIny-EkPEKtm"
      },
      "source": [
        "Resultado do fit:"
      ]
    },
    {
      "cell_type": "code",
      "metadata": {
        "colab": {
          "base_uri": "https://localhost:8080/"
        },
        "id": "ankp76CD64b_",
        "outputId": "93a88422-4132-4b84-8b92-6b626f622f09"
      },
      "source": [
        "coef = model.coef_[0][0]\n",
        "intercept = model.intercept_[0]\n",
        "print(\"Inclinação: {}\\nIntercept: {}\".format(coef, intercept))"
      ],
      "execution_count": null,
      "outputs": [
        {
          "output_type": "stream",
          "text": [
            "Inclinação: 0.4053221728009456\n",
            "Intercept: 4.298666036028475\n"
          ],
          "name": "stdout"
        }
      ]
    },
    {
      "cell_type": "markdown",
      "metadata": {
        "id": "H7lZMbpRDBFP"
      },
      "source": [
        "## Avaliação"
      ]
    },
    {
      "cell_type": "markdown",
      "metadata": {
        "id": "uldEdaHGEQd6"
      },
      "source": [
        "### Avaliação no Treino"
      ]
    },
    {
      "cell_type": "code",
      "metadata": {
        "colab": {
          "base_uri": "https://localhost:8080/",
          "height": 295
        },
        "id": "V6R049e6ESrp",
        "outputId": "86983686-1f6e-4342-889f-ee124922c15d"
      },
      "source": [
        "import matplotlib.pyplot as plt\n",
        "%matplotlib inline\n",
        "\n",
        "plt.title('Petal Length X Sepal Length')  \n",
        "plt.xlabel('Petal Length')  \n",
        "plt.ylabel('Sepal Length') \n",
        "plt.scatter(X_train, y_train, color=\"blue\")\n",
        "\n",
        "plt.plot(X_train, model.predict(X_train), color=\"red\")\n",
        "plt.show()"
      ],
      "execution_count": null,
      "outputs": [
        {
          "output_type": "display_data",
          "data": {
            "image/png": "[encoded data removed]",
            "text/plain": [
              "<Figure size 432x288 with 1 Axes>"
            ]
          },
          "metadata": {
            "needs_background": "light"
          }
        }
      ]
    },
    {
      "cell_type": "code",
      "metadata": {
        "colab": {
          "base_uri": "https://localhost:8080/"
        },
        "id": "jFaqkDqOEW4L",
        "outputId": "70f9c2f8-ea20-4e5a-8434-468f810ce921"
      },
      "source": [
        "prediction = model.predict(X_train.to_numpy())\n",
        "\n",
        "r2_score(y_train, prediction)"
      ],
      "execution_count": null,
      "outputs": [
        {
          "output_type": "execute_result",
          "data": {
            "text/plain": [
              "0.7433457054705969"
            ]
          },
          "metadata": {},
          "execution_count": 12
        }
      ]
    },
    {
      "cell_type": "markdown",
      "metadata": {
        "id": "-ZHKnXPlEOHJ"
      },
      "source": [
        "### Avaliação no Teste"
      ]
    },
    {
      "cell_type": "code",
      "metadata": {
        "colab": {
          "base_uri": "https://localhost:8080/",
          "height": 295
        },
        "id": "heEgc3d56GWV",
        "outputId": "be5b1eac-f43c-4688-e486-759f726a0ca7"
      },
      "source": [
        "import matplotlib.pyplot as plt\n",
        "%matplotlib inline\n",
        "\n",
        "plt.title('Petal Length X Sepal Length')  \n",
        "plt.xlabel('Petal Length')  \n",
        "plt.ylabel('Sepal Length') \n",
        "plt.scatter(X_test, y_test, color=\"blue\")\n",
        "\n",
        "plt.plot(X_test, model.predict(X_test), color=\"red\")\n",
        "plt.show()"
      ],
      "execution_count": null,
      "outputs": [
        {
          "output_type": "display_data",
          "data": {
            "image/png": "[encoded data removed]",
            "text/plain": [
              "<Figure size 432x288 with 1 Axes>"
            ]
          },
          "metadata": {
            "needs_background": "light"
          }
        }
      ]
    },
    {
      "cell_type": "code",
      "metadata": {
        "colab": {
          "base_uri": "https://localhost:8080/"
        },
        "id": "Fa15vJ3553oA",
        "outputId": "f4bc2c85-5130-4534-901c-94fe1796c106"
      },
      "source": [
        "prediction = model.predict(X_test.to_numpy())\n",
        "\n",
        "r2_score(y_test, prediction)"
      ],
      "execution_count": null,
      "outputs": [
        {
          "output_type": "execute_result",
          "data": {
            "text/plain": [
              "0.812980761507489"
            ]
          },
          "metadata": {},
          "execution_count": 14
        }
      ]
    }
  ]
}