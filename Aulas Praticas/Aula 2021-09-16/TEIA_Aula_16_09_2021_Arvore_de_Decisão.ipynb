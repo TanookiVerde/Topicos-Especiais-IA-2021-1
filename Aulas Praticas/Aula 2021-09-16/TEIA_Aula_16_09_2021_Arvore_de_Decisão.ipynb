{
  "nbformat": 4,
  "nbformat_minor": 0,
  "metadata": {
    "colab": {
      "name": "TEIA - Aula 16/09/2021 - Arvore de Decisão",
      "provenance": [],
      "collapsed_sections": []
    },
    "kernelspec": {
      "name": "python3",
      "display_name": "Python 3"
    },
    "language_info": {
      "name": "python"
    }
  },
  "cells": [
    {
      "cell_type": "code",
      "metadata": {
        "id": "psSpZaAaziaH"
      },
      "source": [
        "import pandas as pd\n",
        "import numpy as np\n",
        "import matplotlib.pyplot as plt\n",
        "import seaborn as sns\n",
        "from sklearn.model_selection import train_test_split, cross_val_score"
      ],
      "execution_count": 1,
      "outputs": []
    },
    {
      "cell_type": "code",
      "metadata": {
        "id": "inMb7G3_Eo4r"
      },
      "source": [
        "df = pd.DataFrame({\n",
        "    'weather':['Sunny','Sunny','Overcast','Rainy','Rainy','Rainy','Overcast','Sunny','Sunny','Rainy','Sunny','Overcast','Overcast','Rainy'],\n",
        "    'temperature':['Hot','Hot','Hot','Mild','Cool','Cool','Cool','Mild','Cool','Mild','Mild','Mild','Hot','Mild'],\n",
        "    'play':['No','No','Yes','Yes','Yes','No','Yes','No','Yes','Yes','Yes','Yes','Yes','No']\n",
        "})"
      ],
      "execution_count": 2,
      "outputs": []
    },
    {
      "cell_type": "code",
      "metadata": {
        "id": "SknIC34TC2PF"
      },
      "source": [
        "features = ['weather','temperature']\n",
        "target = 'play'\n",
        "\n",
        "X = df[ features ]\n",
        "y = df[ target ]"
      ],
      "execution_count": 3,
      "outputs": []
    },
    {
      "cell_type": "markdown",
      "metadata": {
        "id": "ydXGjMDOMkfE"
      },
      "source": [
        "## Treinamento Naive Bayes"
      ]
    },
    {
      "cell_type": "code",
      "metadata": {
        "id": "aO1IbQv9NbxZ"
      },
      "source": [
        "from sklearn.preprocessing import LabelEncoder\n",
        "\n",
        "X_encoded = pd.DataFrame();\n",
        "\n",
        "for feature in X.columns:\n",
        "    X_encoded[feature] = LabelEncoder().fit_transform(X[feature].to_numpy())\n",
        "\n",
        "y = LabelEncoder().fit_transform(y)\n",
        "\n",
        "X_train, X_test, y_train, y_test = train_test_split(X_encoded, y, test_size=0.30)"
      ],
      "execution_count": 4,
      "outputs": []
    },
    {
      "cell_type": "code",
      "metadata": {
        "colab": {
          "base_uri": "https://localhost:8080/"
        },
        "id": "uLgy4UHQNHmc",
        "outputId": "f77dd3ec-7d67-4926-aca1-5aa7b4612d47"
      },
      "source": [
        "from sklearn.naive_bayes import GaussianNB\n",
        "from sklearn.metrics import classification_report\n",
        "\n",
        "naive_bayes_model = GaussianNB()\n",
        "naive_bayes_model.fit(X_train, y_train)\n",
        "nb_pred = naive_bayes_model.predict(X_test)\n",
        "\n",
        "print( classification_report(y_test, nb_pred) )"
      ],
      "execution_count": 5,
      "outputs": [
        {
          "output_type": "stream",
          "name": "stdout",
          "text": [
            "              precision    recall  f1-score   support\n",
            "\n",
            "           0       0.33      1.00      0.50         1\n",
            "           1       1.00      0.50      0.67         4\n",
            "\n",
            "    accuracy                           0.60         5\n",
            "   macro avg       0.67      0.75      0.58         5\n",
            "weighted avg       0.87      0.60      0.63         5\n",
            "\n"
          ]
        }
      ]
    },
    {
      "cell_type": "markdown",
      "metadata": {
        "id": "uMp2tBU9KeWF"
      },
      "source": [
        "## Treinamento Árvore de Decisão"
      ]
    },
    {
      "cell_type": "code",
      "metadata": {
        "id": "6CxyFQ69LmHs"
      },
      "source": [
        "X_one_hot = pd.get_dummies(X)"
      ],
      "execution_count": 6,
      "outputs": []
    },
    {
      "cell_type": "code",
      "metadata": {
        "id": "81rXjo4IC6Uh"
      },
      "source": [
        "X_train, X_test, y_train, y_test = train_test_split(X_one_hot, y, test_size=0.30)"
      ],
      "execution_count": 7,
      "outputs": []
    },
    {
      "cell_type": "code",
      "metadata": {
        "colab": {
          "base_uri": "https://localhost:8080/"
        },
        "id": "VsM9qz3gDF0S",
        "outputId": "32abb1ea-e7f6-49d8-da2d-7a3041493814"
      },
      "source": [
        "from sklearn.tree import DecisionTreeClassifier\n",
        "from sklearn.metrics import classification_report\n",
        "\n",
        "dtree_model = DecisionTreeClassifier(criterion='gini', min_samples_split=3)\n",
        "dtree_model.fit(X_train, y_train)\n",
        "dtree_pred = dtree_model.predict(X_test)\n",
        "\n",
        "print( classification_report(y_test, dtree_pred) )"
      ],
      "execution_count": 8,
      "outputs": [
        {
          "output_type": "stream",
          "name": "stdout",
          "text": [
            "              precision    recall  f1-score   support\n",
            "\n",
            "           0       0.50      0.50      0.50         2\n",
            "           1       0.67      0.67      0.67         3\n",
            "\n",
            "    accuracy                           0.60         5\n",
            "   macro avg       0.58      0.58      0.58         5\n",
            "weighted avg       0.60      0.60      0.60         5\n",
            "\n"
          ]
        }
      ]
    },
    {
      "cell_type": "code",
      "metadata": {
        "colab": {
          "base_uri": "https://localhost:8080/",
          "height": 401
        },
        "id": "q-pDBwjsHrRq",
        "outputId": "ed08e942-cad0-417d-a3e3-f11117d1806c"
      },
      "source": [
        "from sklearn import tree\n",
        "import graphviz\n",
        "\n",
        "tree.plot_tree(dtree_model, feature_names=X_one_hot.columns)"
      ],
      "execution_count": 9,
      "outputs": [
        {
          "output_type": "execute_result",
          "data": {
            "text/plain": [
              "[Text(186.0, 190.26, 'weather_Sunny <= 0.5\\ngini = 0.444\\nsamples = 9\\nvalue = [3, 6]'),\n",
              " Text(111.60000000000001, 135.9, 'weather_Overcast <= 0.5\\ngini = 0.278\\nsamples = 6\\nvalue = [1, 5]'),\n",
              " Text(74.4, 81.53999999999999, 'temperature_Mild <= 0.5\\ngini = 0.375\\nsamples = 4\\nvalue = [1, 3]'),\n",
              " Text(37.2, 27.180000000000007, 'gini = 0.0\\nsamples = 1\\nvalue = [0, 1]'),\n",
              " Text(111.60000000000001, 27.180000000000007, 'gini = 0.444\\nsamples = 3\\nvalue = [1, 2]'),\n",
              " Text(148.8, 81.53999999999999, 'gini = 0.0\\nsamples = 2\\nvalue = [0, 2]'),\n",
              " Text(260.40000000000003, 135.9, 'temperature_Cool <= 0.5\\ngini = 0.444\\nsamples = 3\\nvalue = [2, 1]'),\n",
              " Text(223.20000000000002, 81.53999999999999, 'gini = 0.0\\nsamples = 2\\nvalue = [2, 0]'),\n",
              " Text(297.6, 81.53999999999999, 'gini = 0.0\\nsamples = 1\\nvalue = [0, 1]')]"
            ]
          },
          "metadata": {},
          "execution_count": 9
        },
        {
          "output_type": "display_data",
          "data": {
            "image/png": "[encoded data removed]",
            "text/plain": [
              "<Figure size 432x288 with 1 Axes>"
            ]
          },
          "metadata": {
            "needs_background": "light"
          }
        }
      ]
    }
  ]
}