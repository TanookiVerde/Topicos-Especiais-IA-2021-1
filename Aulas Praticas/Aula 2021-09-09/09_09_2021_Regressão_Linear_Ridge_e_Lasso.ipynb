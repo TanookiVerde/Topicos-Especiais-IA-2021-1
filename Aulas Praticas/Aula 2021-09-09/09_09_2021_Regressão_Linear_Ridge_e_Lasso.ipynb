{
  "nbformat": 4,
  "nbformat_minor": 0,
  "metadata": {
    "colab": {
      "name": "09/09/2021 - Regressão Linear: Ridge e Lasso",
      "provenance": [],
      "toc_visible": true
    },
    "kernelspec": {
      "name": "python3",
      "display_name": "Python 3"
    },
    "language_info": {
      "name": "python"
    }
  },
  "cells": [
    {
      "cell_type": "markdown",
      "metadata": {
        "id": "KAFRbJSPEogu"
      },
      "source": [
        "# Regressão Linear: Ridge e Lasso"
      ]
    },
    {
      "cell_type": "markdown",
      "metadata": {
        "id": "w6XUWvxPBPIy"
      },
      "source": [
        "### Dataset Iris"
      ]
    },
    {
      "cell_type": "code",
      "metadata": {
        "id": "dPk4dfEBBLJg"
      },
      "source": [
        "from sklearn.datasets import load_iris\n",
        "from sklearn.model_selection import train_test_split\n",
        "import pandas as pd"
      ],
      "execution_count": 22,
      "outputs": []
    },
    {
      "cell_type": "code",
      "metadata": {
        "id": "0EaWeGVLBXHJ"
      },
      "source": [
        "X, _ = load_iris(return_X_y=True)"
      ],
      "execution_count": 3,
      "outputs": []
    },
    {
      "cell_type": "code",
      "metadata": {
        "id": "4C3PqfhFBonR"
      },
      "source": [
        "df = pd.DataFrame(data=X, columns=load_iris().feature_names)"
      ],
      "execution_count": 8,
      "outputs": []
    },
    {
      "cell_type": "code",
      "metadata": {
        "colab": {
          "base_uri": "https://localhost:8080/",
          "height": 204
        },
        "id": "ebdi9sWKB6ie",
        "outputId": "fc9a483a-6134-499d-853f-0ee52a42f288"
      },
      "source": [
        "df.head()"
      ],
      "execution_count": 10,
      "outputs": [
        {
          "output_type": "execute_result",
          "data": {
            "text/html": [
              "<div>\n",
              "<style scoped>\n",
              "    .dataframe tbody tr th:only-of-type {\n",
              "        vertical-align: middle;\n",
              "    }\n",
              "\n",
              "    .dataframe tbody tr th {\n",
              "        vertical-align: top;\n",
              "    }\n",
              "\n",
              "    .dataframe thead th {\n",
              "        text-align: right;\n",
              "    }\n",
              "</style>\n",
              "<table border=\"1\" class=\"dataframe\">\n",
              "  <thead>\n",
              "    <tr style=\"text-align: right;\">\n",
              "      <th></th>\n",
              "      <th>sepal length (cm)</th>\n",
              "      <th>sepal width (cm)</th>\n",
              "      <th>petal length (cm)</th>\n",
              "      <th>petal width (cm)</th>\n",
              "    </tr>\n",
              "  </thead>\n",
              "  <tbody>\n",
              "    <tr>\n",
              "      <th>0</th>\n",
              "      <td>5.1</td>\n",
              "      <td>3.5</td>\n",
              "      <td>1.4</td>\n",
              "      <td>0.2</td>\n",
              "    </tr>\n",
              "    <tr>\n",
              "      <th>1</th>\n",
              "      <td>4.9</td>\n",
              "      <td>3.0</td>\n",
              "      <td>1.4</td>\n",
              "      <td>0.2</td>\n",
              "    </tr>\n",
              "    <tr>\n",
              "      <th>2</th>\n",
              "      <td>4.7</td>\n",
              "      <td>3.2</td>\n",
              "      <td>1.3</td>\n",
              "      <td>0.2</td>\n",
              "    </tr>\n",
              "    <tr>\n",
              "      <th>3</th>\n",
              "      <td>4.6</td>\n",
              "      <td>3.1</td>\n",
              "      <td>1.5</td>\n",
              "      <td>0.2</td>\n",
              "    </tr>\n",
              "    <tr>\n",
              "      <th>4</th>\n",
              "      <td>5.0</td>\n",
              "      <td>3.6</td>\n",
              "      <td>1.4</td>\n",
              "      <td>0.2</td>\n",
              "    </tr>\n",
              "  </tbody>\n",
              "</table>\n",
              "</div>"
            ],
            "text/plain": [
              "   sepal length (cm)  sepal width (cm)  petal length (cm)  petal width (cm)\n",
              "0                5.1               3.5                1.4               0.2\n",
              "1                4.9               3.0                1.4               0.2\n",
              "2                4.7               3.2                1.3               0.2\n",
              "3                4.6               3.1                1.5               0.2\n",
              "4                5.0               3.6                1.4               0.2"
            ]
          },
          "metadata": {},
          "execution_count": 10
        }
      ]
    },
    {
      "cell_type": "code",
      "metadata": {
        "colab": {
          "base_uri": "https://localhost:8080/",
          "height": 173
        },
        "id": "eTffusZ4CBNf",
        "outputId": "fb10869e-f1ef-4636-8298-3c3d06fff7eb"
      },
      "source": [
        "df.corr()"
      ],
      "execution_count": 11,
      "outputs": [
        {
          "output_type": "execute_result",
          "data": {
            "text/html": [
              "<div>\n",
              "<style scoped>\n",
              "    .dataframe tbody tr th:only-of-type {\n",
              "        vertical-align: middle;\n",
              "    }\n",
              "\n",
              "    .dataframe tbody tr th {\n",
              "        vertical-align: top;\n",
              "    }\n",
              "\n",
              "    .dataframe thead th {\n",
              "        text-align: right;\n",
              "    }\n",
              "</style>\n",
              "<table border=\"1\" class=\"dataframe\">\n",
              "  <thead>\n",
              "    <tr style=\"text-align: right;\">\n",
              "      <th></th>\n",
              "      <th>sepal length (cm)</th>\n",
              "      <th>sepal width (cm)</th>\n",
              "      <th>petal length (cm)</th>\n",
              "      <th>petal width (cm)</th>\n",
              "    </tr>\n",
              "  </thead>\n",
              "  <tbody>\n",
              "    <tr>\n",
              "      <th>sepal length (cm)</th>\n",
              "      <td>1.000000</td>\n",
              "      <td>-0.117570</td>\n",
              "      <td>0.871754</td>\n",
              "      <td>0.817941</td>\n",
              "    </tr>\n",
              "    <tr>\n",
              "      <th>sepal width (cm)</th>\n",
              "      <td>-0.117570</td>\n",
              "      <td>1.000000</td>\n",
              "      <td>-0.428440</td>\n",
              "      <td>-0.366126</td>\n",
              "    </tr>\n",
              "    <tr>\n",
              "      <th>petal length (cm)</th>\n",
              "      <td>0.871754</td>\n",
              "      <td>-0.428440</td>\n",
              "      <td>1.000000</td>\n",
              "      <td>0.962865</td>\n",
              "    </tr>\n",
              "    <tr>\n",
              "      <th>petal width (cm)</th>\n",
              "      <td>0.817941</td>\n",
              "      <td>-0.366126</td>\n",
              "      <td>0.962865</td>\n",
              "      <td>1.000000</td>\n",
              "    </tr>\n",
              "  </tbody>\n",
              "</table>\n",
              "</div>"
            ],
            "text/plain": [
              "                   sepal length (cm)  ...  petal width (cm)\n",
              "sepal length (cm)           1.000000  ...          0.817941\n",
              "sepal width (cm)           -0.117570  ...         -0.366126\n",
              "petal length (cm)           0.871754  ...          0.962865\n",
              "petal width (cm)            0.817941  ...          1.000000\n",
              "\n",
              "[4 rows x 4 columns]"
            ]
          },
          "metadata": {},
          "execution_count": 11
        }
      ]
    },
    {
      "cell_type": "code",
      "metadata": {
        "id": "BI1D6lm0CD2w"
      },
      "source": [
        "y = df['petal length (cm)'].to_numpy()\n",
        "X = df.drop(columns=['petal length (cm)']).to_numpy()"
      ],
      "execution_count": 17,
      "outputs": []
    },
    {
      "cell_type": "code",
      "metadata": {
        "colab": {
          "base_uri": "https://localhost:8080/"
        },
        "id": "ZoCSCK79CTkW",
        "outputId": "8a128f8d-874d-41c1-93f1-cf7083306347"
      },
      "source": [
        "X[:10]"
      ],
      "execution_count": 19,
      "outputs": [
        {
          "output_type": "execute_result",
          "data": {
            "text/plain": [
              "array([[5.1, 3.5, 0.2],\n",
              "       [4.9, 3. , 0.2],\n",
              "       [4.7, 3.2, 0.2],\n",
              "       [4.6, 3.1, 0.2],\n",
              "       [5. , 3.6, 0.2],\n",
              "       [5.4, 3.9, 0.4],\n",
              "       [4.6, 3.4, 0.3],\n",
              "       [5. , 3.4, 0.2],\n",
              "       [4.4, 2.9, 0.2],\n",
              "       [4.9, 3.1, 0.1]])"
            ]
          },
          "metadata": {},
          "execution_count": 19
        }
      ]
    },
    {
      "cell_type": "code",
      "metadata": {
        "colab": {
          "base_uri": "https://localhost:8080/"
        },
        "id": "3bL2TDfpCbh9",
        "outputId": "cd69a81e-5fc8-43b6-ccd8-73ca250f9eab"
      },
      "source": [
        "y[:10]"
      ],
      "execution_count": 20,
      "outputs": [
        {
          "output_type": "execute_result",
          "data": {
            "text/plain": [
              "array([1.4, 1.4, 1.3, 1.5, 1.4, 1.7, 1.4, 1.5, 1.4, 1.5])"
            ]
          },
          "metadata": {},
          "execution_count": 20
        }
      ]
    },
    {
      "cell_type": "code",
      "metadata": {
        "colab": {
          "base_uri": "https://localhost:8080/"
        },
        "id": "jh1lywvWChaa",
        "outputId": "fad5c30b-53fa-425e-ca34-328354b21acb"
      },
      "source": [
        "X_train, X_test, y_train, y_test = train_test_split(X, y, test_size=0.3, random_state=3)\n",
        "\n",
        "print(len(X_test), len(y_test))"
      ],
      "execution_count": 23,
      "outputs": [
        {
          "output_type": "stream",
          "name": "stdout",
          "text": [
            "45 45\n"
          ]
        }
      ]
    },
    {
      "cell_type": "markdown",
      "metadata": {
        "id": "Gxgj4XFSBEmF"
      },
      "source": [
        "## Regressão Ridge: reduzir overfit"
      ]
    },
    {
      "cell_type": "markdown",
      "metadata": {
        "id": "FHv0t2hIFN0y"
      },
      "source": [
        "### Regressão Comum"
      ]
    },
    {
      "cell_type": "code",
      "metadata": {
        "id": "qXBpyzUwqmAk"
      },
      "source": [
        "from sklearn.linear_model import LinearRegression\n",
        "\n",
        "lr = LinearRegression()\n",
        "lr.fit(X_train, y_train)\n",
        "\n",
        "train_score=lr.score(X_train, y_train)\n",
        "test_score=lr.score(X_test, y_test)"
      ],
      "execution_count": 24,
      "outputs": []
    },
    {
      "cell_type": "markdown",
      "metadata": {
        "id": "tH37ECpLFQIG"
      },
      "source": [
        "### Regressão Ridge com Alpha = 0.01"
      ]
    },
    {
      "cell_type": "code",
      "metadata": {
        "id": "krnosVWQC1ri"
      },
      "source": [
        "from sklearn.linear_model import Ridge\n",
        "\n",
        "rr = Ridge(alpha=0.01) \n",
        "rr.fit(X_train, y_train)\n",
        "\n",
        "Ridge_train_score = rr.score(X_train,y_train)\n",
        "Ridge_test_score = rr.score(X_test, y_test)"
      ],
      "execution_count": 25,
      "outputs": []
    },
    {
      "cell_type": "markdown",
      "metadata": {
        "id": "ULQbH5JfFUJV"
      },
      "source": [
        "### Regressão Ridge com Alpha = 100"
      ]
    },
    {
      "cell_type": "code",
      "metadata": {
        "id": "iGDlYTrSC9x5"
      },
      "source": [
        "rr100 = Ridge(alpha=100)\n",
        "rr100.fit(X_train, y_train)\n",
        "\n",
        "Ridge_train_score100 = rr100.score(X_train,y_train)\n",
        "Ridge_test_score100 = rr100.score(X_test, y_test)"
      ],
      "execution_count": 26,
      "outputs": []
    },
    {
      "cell_type": "markdown",
      "metadata": {
        "id": "WOJ-eKSZFXik"
      },
      "source": [
        "### Gráfico de comparação"
      ]
    },
    {
      "cell_type": "code",
      "metadata": {
        "colab": {
          "base_uri": "https://localhost:8080/",
          "height": 285
        },
        "id": "joXhk_xaqs02",
        "outputId": "4083384f-6db1-495b-a8a8-a2fde3faa1f8"
      },
      "source": [
        "import matplotlib.pyplot as plt\n",
        "\n",
        "plt.plot(rr.coef_, alpha=0.7, linestyle='none',marker='*',markersize=5,color='red',label=r'Ridge; $\\alpha = 0.01$',zorder=7) \n",
        "plt.plot(rr100.coef_, alpha=0.5, linestyle='none',marker='d',markersize=6,color='blue',label=r'Ridge; $\\alpha = 100$') \n",
        "plt.plot(lr.coef_, alpha=0.4, linestyle='none',marker='o',markersize=7,color='green',label='Linear Regression')\n",
        "\n",
        "plt.xlabel('Coefficient Index',fontsize=16)\n",
        "plt.ylabel('Coefficient Magnitude',fontsize=16)\n",
        "\n",
        "plt.legend(fontsize=10,loc=4)\n",
        "plt.show()"
      ],
      "execution_count": 31,
      "outputs": [
        {
          "output_type": "display_data",
          "data": {
            "image/png": "[encoded data removed]",
            "text/plain": [
              "<Figure size 432x288 with 1 Axes>"
            ]
          },
          "metadata": {
            "needs_background": "light"
          }
        }
      ]
    },
    {
      "cell_type": "markdown",
      "metadata": {
        "id": "phtSw7jKBHtE"
      },
      "source": [
        "## Regressão Lasso: analisar features impactantes"
      ]
    },
    {
      "cell_type": "code",
      "metadata": {
        "colab": {
          "base_uri": "https://localhost:8080/"
        },
        "id": "_dQWsc9YD4a0",
        "outputId": "1cdd8372-4a7c-42c3-81f1-00d643f8fda4"
      },
      "source": [
        "lr = LinearRegression()\n",
        "lr.fit(X_train,y_train)\n",
        "\n",
        "lr_train_score=lr.score(X_train,y_train)\n",
        "lr_test_score=lr.score(X_test,y_test)\n",
        "\n",
        "print (\"LR training score:\", lr_train_score)\n",
        "print (\"LR test score: \", lr_test_score)"
      ],
      "execution_count": 37,
      "outputs": [
        {
          "output_type": "stream",
          "name": "stdout",
          "text": [
            "LR training score: 0.9720362636879499\n",
            "LR test score:  0.9554496250632946\n"
          ]
        }
      ]
    },
    {
      "cell_type": "code",
      "metadata": {
        "colab": {
          "base_uri": "https://localhost:8080/"
        },
        "id": "E1G-OfLcDgv3",
        "outputId": "d250a75c-3c21-44f5-cde5-9738c27de686"
      },
      "source": [
        "from sklearn.linear_model import Lasso\n",
        "import numpy as np\n",
        "\n",
        "lasso = Lasso()\n",
        "lasso.fit(X_train,y_train)\n",
        "\n",
        "train_score=lasso.score(X_train,y_train)\n",
        "test_score=lasso.score(X_test,y_test)\n",
        "\n",
        "coeff_used = np.sum(lasso.coef_!=0)\n",
        "\n",
        "print (\"training score:\", train_score) \n",
        "print (\"test score: \", test_score)\n",
        "print (\"number of features used: \", coeff_used)"
      ],
      "execution_count": 34,
      "outputs": [
        {
          "output_type": "stream",
          "name": "stdout",
          "text": [
            "training score: 0.33130407252440275\n",
            "test score:  0.32012764278731176\n",
            "number of features used:  1\n"
          ]
        }
      ]
    },
    {
      "cell_type": "code",
      "metadata": {
        "colab": {
          "base_uri": "https://localhost:8080/"
        },
        "id": "pb7RhxbKsswg",
        "outputId": "4dce5385-3421-4df7-a83d-977f8bcf23d1"
      },
      "source": [
        "lasso001 = Lasso(alpha=0.01, max_iter=10e5)\n",
        "lasso001.fit(X_train,y_train)\n",
        "\n",
        "train_score001=lasso001.score(X_train,y_train)\n",
        "test_score001=lasso001.score(X_test,y_test)\n",
        "\n",
        "coeff_used001 = np.sum(lasso001.coef_!=0)\n",
        "\n",
        "print (\"training score for alpha=0.01:\", train_score001) \n",
        "print (\"test score for alpha =0.01: \", test_score001)\n",
        "print (\"number of features used: for alpha =0.01:\", coeff_used001)"
      ],
      "execution_count": 35,
      "outputs": [
        {
          "output_type": "stream",
          "name": "stdout",
          "text": [
            "training score for alpha=0.01: 0.9718063563217438\n",
            "test score for alpha =0.01:  0.9559045452054491\n",
            "number of features used: for alpha =0.01: 3\n"
          ]
        }
      ]
    },
    {
      "cell_type": "code",
      "metadata": {
        "colab": {
          "base_uri": "https://localhost:8080/"
        },
        "id": "pwxmo6aAs-xG",
        "outputId": "518cf0cf-e126-4889-8a32-578f37516c64"
      },
      "source": [
        "lasso00001 = Lasso(alpha=0.0001, max_iter=10e5)\n",
        "lasso00001.fit(X_train,y_train)\n",
        "\n",
        "train_score00001=lasso00001.score(X_train,y_train)\n",
        "test_score00001=lasso00001.score(X_test,y_test)\n",
        "\n",
        "coeff_used00001 = np.sum(lasso00001.coef_!=0)\n",
        "\n",
        "print (\"training score for alpha=0.0001:\", train_score00001) \n",
        "print (\"test score for alpha =0.0001: \", test_score00001)\n",
        "print (\"number of features used: for alpha =0.0001:\", coeff_used00001)"
      ],
      "execution_count": 36,
      "outputs": [
        {
          "output_type": "stream",
          "name": "stdout",
          "text": [
            "training score for alpha=0.0001: 0.9720362482639009\n",
            "test score for alpha =0.0001:  0.9554497069848301\n",
            "number of features used: for alpha =0.0001: 3\n"
          ]
        }
      ]
    },
    {
      "cell_type": "code",
      "metadata": {
        "colab": {
          "base_uri": "https://localhost:8080/",
          "height": 297
        },
        "id": "x2WUXCdeunnK",
        "outputId": "32dfc573-1403-4ab5-d1d2-a6dd29bdc24e"
      },
      "source": [
        "plt.plot(lasso.coef_,alpha=0.7,linestyle='none',marker='*',markersize=5,color='red',label=r'Lasso; $\\alpha = 1$',zorder=7) # alpha here is for transparency\n",
        "plt.plot(lasso001.coef_,alpha=0.5,linestyle='none',marker='d',markersize=6,color='blue',label=r'Lasso; $\\alpha = 0.01$') # alpha here is for transparency\n",
        "\n",
        "plt.xlabel('Coefficient Index',fontsize=16)\n",
        "plt.ylabel('Coefficient Magnitude',fontsize=16)\n",
        "\n",
        "plt.legend(fontsize=10,loc=4)\n",
        "plt.tight_layout()\n",
        "plt.show()"
      ],
      "execution_count": 43,
      "outputs": [
        {
          "output_type": "display_data",
          "data": {
            "image/png": "[encoded data removed]",
            "text/plain": [
              "<Figure size 432x288 with 1 Axes>"
            ]
          },
          "metadata": {
            "needs_background": "light"
          }
        }
      ]
    },
    {
      "cell_type": "code",
      "metadata": {
        "colab": {
          "base_uri": "https://localhost:8080/",
          "height": 297
        },
        "id": "E99be9kKEX4O",
        "outputId": "39b261de-9098-4fbe-f3b5-9cead00b5626"
      },
      "source": [
        "plt.plot(lasso.coef_,alpha=0.7,linestyle='none',marker='*',markersize=5,color='red',label=r'Lasso; $\\alpha = 1$',zorder=7) # alpha here is for transparency\n",
        "plt.plot(lasso001.coef_,alpha=0.5,linestyle='none',marker='d',markersize=6,color='blue',label=r'Lasso; $\\alpha = 0.01$') # alpha here is for transparency\n",
        "plt.plot(lasso00001.coef_,alpha=0.8,linestyle='none',marker='v',markersize=6,color='black',label=r'Lasso; $\\alpha = 0.00001$') # alpha here is for transparency\n",
        "plt.plot(lr.coef_,alpha=0.7,linestyle='none',marker='o',markersize=5,color='green',label='Linear Regression',zorder=2)\n",
        "\n",
        "plt.xlabel('Coefficient Index',fontsize=16)\n",
        "plt.ylabel('Coefficient Magnitude',fontsize=16)\n",
        "\n",
        "plt.legend(fontsize=10,loc=4)\n",
        "plt.tight_layout()\n",
        "plt.show()"
      ],
      "execution_count": 40,
      "outputs": [
        {
          "output_type": "display_data",
          "data": {
            "image/png": "[encoded data removed]",
            "text/plain": [
              "<Figure size 432x288 with 1 Axes>"
            ]
          },
          "metadata": {
            "needs_background": "light"
          }
        }
      ]
    }
  ]
}